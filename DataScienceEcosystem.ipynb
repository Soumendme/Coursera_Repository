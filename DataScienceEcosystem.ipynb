{
 "cells": [
  {
   "cell_type": "markdown",
   "id": "1ccc1768-9812-49e2-9211-59e86d7091e4",
   "metadata": {},
   "source": [
    "<H1> Data Science Tools and Ecosystem"
   ]
  },
  {
   "cell_type": "markdown",
   "id": "45fc5407-8f24-46ee-973c-367fbdbbd91f",
   "metadata": {
    "tags": []
   },
   "source": [
    "#### In this notebook, Data Science Tools and Ecosystem are summarized."
   ]
  },
  {
   "cell_type": "markdown",
   "id": "d0e6b5c2-134a-4aea-a264-393d36c88d23",
   "metadata": {
    "tags": []
   },
   "source": [
    "#### Some of the popular languages that Data Scientists use are:\n",
    "\n",
    "1. Python\n",
    "2. R\n",
    "3. SQL"
   ]
  },
  {
   "cell_type": "markdown",
   "id": "8dc4c70e-4cfc-41a5-9a08-62bbfdfc9b88",
   "metadata": {
    "tags": []
   },
   "source": [
    "#### Some of the commonly used libraries used by Data Scientists include:\n",
    "\n",
    "1. TensorFlow\n",
    "2. NumPy\n",
    "3. SciPy \n",
    "4. Pandas\n",
    "5. Matplotlib \n"
   ]
  },
  {
   "cell_type": "markdown",
   "id": "6447dbe9-92d4-4c97-bb04-88dc013d11f0",
   "metadata": {
    "tags": []
   },
   "source": [
    "Data Science Tools|\n",
    "------------------\n",
    "RStudio|\n",
    "Apache Spark|\n",
    "TensorFlow|\n"
   ]
  },
  {
   "cell_type": "markdown",
   "id": "94896f82-531b-4021-b6de-c4a7d834f01c",
   "metadata": {},
   "source": [
    "<H3> Below are few examples of evaluating arithmetic expression in python"
   ]
  },
  {
   "cell_type": "code",
   "execution_count": 8,
   "id": "437dc118-2405-4bdf-97b5-2dd4f469da49",
   "metadata": {
    "tags": []
   },
   "outputs": [
    {
     "data": {
      "text/plain": [
       "12"
      ]
     },
     "execution_count": 8,
     "metadata": {},
     "output_type": "execute_result"
    }
   ],
   "source": [
    "# This a simple arithmetic expression to mutiply then add integers. \n",
    "\n",
    "(3+4)+5"
   ]
  },
  {
   "cell_type": "code",
   "execution_count": 11,
   "id": "c83e4e05-23c4-4b0d-a4e4-9658358aa6ce",
   "metadata": {
    "tags": []
   },
   "outputs": [
    {
     "data": {
      "text/plain": [
       "3.3333333333333335"
      ]
     },
     "execution_count": 11,
     "metadata": {},
     "output_type": "execute_result"
    }
   ],
   "source": [
    "# This will convert 200 minutes to hours by diving by 60. \n",
    "\n",
    "200/60"
   ]
  },
  {
   "cell_type": "markdown",
   "id": "462c100a-fbeb-4366-bcf1-4454569e416e",
   "metadata": {},
   "source": [
    "### **Objectives : List popular languages for Data Science**\n",
    "* Python\n",
    "* R\n",
    "* SQL\n",
    "* Scala\n",
    "* Java\n",
    "* Julia"
   ]
  },
  {
   "cell_type": "markdown",
   "id": "950151cf-4233-49e6-b03c-f9989943c04b",
   "metadata": {},
   "source": [
    "# <H2> Auther\n",
    "#### Soumen Mandal"
   ]
  }
 ],
 "metadata": {
  "kernelspec": {
   "display_name": "Python 3 (ipykernel)",
   "language": "python",
   "name": "python3"
  },
  "language_info": {
   "codemirror_mode": {
    "name": "ipython",
    "version": 3
   },
   "file_extension": ".py",
   "mimetype": "text/x-python",
   "name": "python",
   "nbconvert_exporter": "python",
   "pygments_lexer": "ipython3",
   "version": "3.11.4"
  }
 },
 "nbformat": 4,
 "nbformat_minor": 5
}
